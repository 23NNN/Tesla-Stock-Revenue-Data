{
 "cells": [
  {
   "metadata": {},
   "cell_type": "markdown",
   "source": "# Analyzing Historical Stock/Revenue Data and Building a Dashboard",
   "id": "58ee6d109dc96785"
  },
  {
   "metadata": {
    "ExecuteTime": {
     "end_time": "2024-10-29T15:38:00.094074Z",
     "start_time": "2024-10-29T15:37:47.323739Z"
    }
   },
   "cell_type": "code",
   "source": [
    "!pip install yfinance\n",
    "!pip install pandas\n",
    "!pip install matplotlib"
   ],
   "id": "76b4f16afcabf56f",
   "outputs": [
    {
     "name": "stdout",
     "output_type": "stream",
     "text": [
      "Requirement already satisfied: yfinance in c:\\users\\nafi.nuruddin\\appdata\\local\\anaconda3\\lib\\site-packages (0.2.4)\n",
      "Requirement already satisfied: pandas>=1.3.0 in c:\\users\\nafi.nuruddin\\appdata\\local\\anaconda3\\lib\\site-packages (from yfinance) (2.0.3)\n",
      "Requirement already satisfied: numpy>=1.16.5 in c:\\users\\nafi.nuruddin\\appdata\\local\\anaconda3\\lib\\site-packages (from yfinance) (1.24.3)\n",
      "Requirement already satisfied: requests>=2.26 in c:\\users\\nafi.nuruddin\\appdata\\local\\anaconda3\\lib\\site-packages (from yfinance) (2.31.0)\n",
      "Requirement already satisfied: multitasking>=0.0.7 in c:\\users\\nafi.nuruddin\\appdata\\local\\anaconda3\\lib\\site-packages (from yfinance) (0.0.11)\n",
      "Requirement already satisfied: lxml>=4.9.1 in c:\\users\\nafi.nuruddin\\appdata\\local\\anaconda3\\lib\\site-packages (from yfinance) (4.9.2)\n",
      "Requirement already satisfied: appdirs>=1.4.4 in c:\\users\\nafi.nuruddin\\appdata\\local\\anaconda3\\lib\\site-packages (from yfinance) (1.4.4)\n",
      "Requirement already satisfied: pytz>=2022.5 in c:\\users\\nafi.nuruddin\\appdata\\local\\anaconda3\\lib\\site-packages (from yfinance) (2022.7)\n",
      "Requirement already satisfied: frozendict>=2.3.4 in c:\\users\\nafi.nuruddin\\appdata\\local\\anaconda3\\lib\\site-packages (from yfinance) (2.4.6)\n",
      "Requirement already satisfied: cryptography>=3.3.2 in c:\\users\\nafi.nuruddin\\appdata\\local\\anaconda3\\lib\\site-packages (from yfinance) (41.0.2)\n",
      "Requirement already satisfied: beautifulsoup4>=4.11.1 in c:\\users\\nafi.nuruddin\\appdata\\local\\anaconda3\\lib\\site-packages (from yfinance) (4.12.2)\n",
      "Requirement already satisfied: html5lib>=1.1 in c:\\users\\nafi.nuruddin\\appdata\\local\\anaconda3\\lib\\site-packages (from yfinance) (1.1)\n",
      "Requirement already satisfied: soupsieve>1.2 in c:\\users\\nafi.nuruddin\\appdata\\local\\anaconda3\\lib\\site-packages (from beautifulsoup4>=4.11.1->yfinance) (2.4)\n",
      "Requirement already satisfied: cffi>=1.12 in c:\\users\\nafi.nuruddin\\appdata\\local\\anaconda3\\lib\\site-packages (from cryptography>=3.3.2->yfinance) (1.15.1)\n",
      "Requirement already satisfied: six>=1.9 in c:\\users\\nafi.nuruddin\\appdata\\local\\anaconda3\\lib\\site-packages (from html5lib>=1.1->yfinance) (1.16.0)\n",
      "Requirement already satisfied: webencodings in c:\\users\\nafi.nuruddin\\appdata\\local\\anaconda3\\lib\\site-packages (from html5lib>=1.1->yfinance) (0.5.1)\n",
      "Requirement already satisfied: python-dateutil>=2.8.2 in c:\\users\\nafi.nuruddin\\appdata\\local\\anaconda3\\lib\\site-packages (from pandas>=1.3.0->yfinance) (2.8.2)\n",
      "Requirement already satisfied: tzdata>=2022.1 in c:\\users\\nafi.nuruddin\\appdata\\local\\anaconda3\\lib\\site-packages (from pandas>=1.3.0->yfinance) (2023.3)\n",
      "Requirement already satisfied: charset-normalizer<4,>=2 in c:\\users\\nafi.nuruddin\\appdata\\local\\anaconda3\\lib\\site-packages (from requests>=2.26->yfinance) (2.0.4)\n",
      "Requirement already satisfied: idna<4,>=2.5 in c:\\users\\nafi.nuruddin\\appdata\\local\\anaconda3\\lib\\site-packages (from requests>=2.26->yfinance) (3.4)\n",
      "Requirement already satisfied: urllib3<3,>=1.21.1 in c:\\users\\nafi.nuruddin\\appdata\\local\\anaconda3\\lib\\site-packages (from requests>=2.26->yfinance) (1.26.16)\n",
      "Requirement already satisfied: certifi>=2017.4.17 in c:\\users\\nafi.nuruddin\\appdata\\local\\anaconda3\\lib\\site-packages (from requests>=2.26->yfinance) (2024.8.30)\n",
      "Requirement already satisfied: pycparser in c:\\users\\nafi.nuruddin\\appdata\\local\\anaconda3\\lib\\site-packages (from cffi>=1.12->cryptography>=3.3.2->yfinance) (2.21)\n",
      "Requirement already satisfied: pandas in c:\\users\\nafi.nuruddin\\appdata\\local\\anaconda3\\lib\\site-packages (2.0.3)\n",
      "Requirement already satisfied: python-dateutil>=2.8.2 in c:\\users\\nafi.nuruddin\\appdata\\local\\anaconda3\\lib\\site-packages (from pandas) (2.8.2)\n",
      "Requirement already satisfied: pytz>=2020.1 in c:\\users\\nafi.nuruddin\\appdata\\local\\anaconda3\\lib\\site-packages (from pandas) (2022.7)\n",
      "Requirement already satisfied: tzdata>=2022.1 in c:\\users\\nafi.nuruddin\\appdata\\local\\anaconda3\\lib\\site-packages (from pandas) (2023.3)\n",
      "Requirement already satisfied: numpy>=1.21.0 in c:\\users\\nafi.nuruddin\\appdata\\local\\anaconda3\\lib\\site-packages (from pandas) (1.24.3)\n",
      "Requirement already satisfied: six>=1.5 in c:\\users\\nafi.nuruddin\\appdata\\local\\anaconda3\\lib\\site-packages (from python-dateutil>=2.8.2->pandas) (1.16.0)\n",
      "Requirement already satisfied: matplotlib in c:\\users\\nafi.nuruddin\\appdata\\local\\anaconda3\\lib\\site-packages (3.7.1)\n",
      "Requirement already satisfied: contourpy>=1.0.1 in c:\\users\\nafi.nuruddin\\appdata\\local\\anaconda3\\lib\\site-packages (from matplotlib) (1.0.5)\n",
      "Requirement already satisfied: cycler>=0.10 in c:\\users\\nafi.nuruddin\\appdata\\local\\anaconda3\\lib\\site-packages (from matplotlib) (0.11.0)\n",
      "Requirement already satisfied: fonttools>=4.22.0 in c:\\users\\nafi.nuruddin\\appdata\\local\\anaconda3\\lib\\site-packages (from matplotlib) (4.25.0)\n",
      "Requirement already satisfied: kiwisolver>=1.0.1 in c:\\users\\nafi.nuruddin\\appdata\\local\\anaconda3\\lib\\site-packages (from matplotlib) (1.4.4)\n",
      "Requirement already satisfied: numpy>=1.20 in c:\\users\\nafi.nuruddin\\appdata\\local\\anaconda3\\lib\\site-packages (from matplotlib) (1.24.3)\n",
      "Requirement already satisfied: packaging>=20.0 in c:\\users\\nafi.nuruddin\\appdata\\local\\anaconda3\\lib\\site-packages (from matplotlib) (23.0)\n",
      "Requirement already satisfied: pillow>=6.2.0 in c:\\users\\nafi.nuruddin\\appdata\\local\\anaconda3\\lib\\site-packages (from matplotlib) (10.2.0)\n",
      "Requirement already satisfied: pyparsing>=2.3.1 in c:\\users\\nafi.nuruddin\\appdata\\local\\anaconda3\\lib\\site-packages (from matplotlib) (3.0.9)\n",
      "Requirement already satisfied: python-dateutil>=2.7 in c:\\users\\nafi.nuruddin\\appdata\\local\\anaconda3\\lib\\site-packages (from matplotlib) (2.8.2)\n",
      "Requirement already satisfied: six>=1.5 in c:\\users\\nafi.nuruddin\\appdata\\local\\anaconda3\\lib\\site-packages (from python-dateutil>=2.7->matplotlib) (1.16.0)\n"
     ]
    }
   ],
   "execution_count": 5
  },
  {
   "metadata": {
    "ExecuteTime": {
     "end_time": "2024-10-29T15:38:03.189552Z",
     "start_time": "2024-10-29T15:38:03.185047Z"
    }
   },
   "cell_type": "code",
   "source": [
    "import yfinance as yf\n",
    "import pandas as pd\n",
    "import matplotlib"
   ],
   "id": "6833feb02064b257",
   "outputs": [],
   "execution_count": 6
  },
  {
   "metadata": {},
   "cell_type": "markdown",
   "source": [
    "## Question 1: Use yfinance to Extract Stock Data\n",
    "\n",
    "Reset the index, save, and display the first five rows of the tesla_data dataframe using the head function. Upload a screenshot of the results and code from the beginning of Question 1 to the results below."
   ],
   "id": "89883d0eafdea682"
  },
  {
   "metadata": {
    "ExecuteTime": {
     "end_time": "2024-10-29T15:57:24.687722Z",
     "start_time": "2024-10-29T15:57:24.682801Z"
    }
   },
   "cell_type": "code",
   "source": "tesla = yf.Ticker(\"TSLA\")",
   "id": "a84baa827396432d",
   "outputs": [
    {
     "name": "stdout",
     "output_type": "stream",
     "text": [
      "yfinance.Ticker object <TSLA>\n"
     ]
    }
   ],
   "execution_count": 13
  },
  {
   "metadata": {
    "ExecuteTime": {
     "end_time": "2024-10-29T16:00:14.090721Z",
     "start_time": "2024-10-29T16:00:13.990906Z"
    }
   },
   "cell_type": "code",
   "source": [
    "tesla_data = tesla.history(period=\"1y\")\n",
    "tesla_data.reset_index(inplace=True)\n",
    "tesla_data.head()"
   ],
   "id": "10076a10c323de87",
   "outputs": [
    {
     "data": {
      "text/plain": [
       "                       Date        Open        High         Low       Close  \\\n",
       "0 2023-10-30 00:00:00-04:00  209.279999  210.880005  194.669998  197.360001   \n",
       "1 2023-10-31 00:00:00-04:00  196.119995  202.800003  194.070007  200.839996   \n",
       "2 2023-11-01 00:00:00-04:00  204.039993  205.990005  197.850006  205.660004   \n",
       "3 2023-11-02 00:00:00-04:00  212.970001  219.199997  211.449997  218.509995   \n",
       "4 2023-11-03 00:00:00-04:00  221.149994  226.369995  218.399994  219.960007   \n",
       "\n",
       "      Volume  Dividends  Stock Splits  \n",
       "0  136448200        0.0           0.0  \n",
       "1  118068300        0.0           0.0  \n",
       "2  121661700        0.0           0.0  \n",
       "3  125987600        0.0           0.0  \n",
       "4  119281000        0.0           0.0  "
      ],
      "text/html": [
       "<div>\n",
       "<style scoped>\n",
       "    .dataframe tbody tr th:only-of-type {\n",
       "        vertical-align: middle;\n",
       "    }\n",
       "\n",
       "    .dataframe tbody tr th {\n",
       "        vertical-align: top;\n",
       "    }\n",
       "\n",
       "    .dataframe thead th {\n",
       "        text-align: right;\n",
       "    }\n",
       "</style>\n",
       "<table border=\"1\" class=\"dataframe\">\n",
       "  <thead>\n",
       "    <tr style=\"text-align: right;\">\n",
       "      <th></th>\n",
       "      <th>Date</th>\n",
       "      <th>Open</th>\n",
       "      <th>High</th>\n",
       "      <th>Low</th>\n",
       "      <th>Close</th>\n",
       "      <th>Volume</th>\n",
       "      <th>Dividends</th>\n",
       "      <th>Stock Splits</th>\n",
       "    </tr>\n",
       "  </thead>\n",
       "  <tbody>\n",
       "    <tr>\n",
       "      <th>0</th>\n",
       "      <td>2023-10-30 00:00:00-04:00</td>\n",
       "      <td>209.279999</td>\n",
       "      <td>210.880005</td>\n",
       "      <td>194.669998</td>\n",
       "      <td>197.360001</td>\n",
       "      <td>136448200</td>\n",
       "      <td>0.0</td>\n",
       "      <td>0.0</td>\n",
       "    </tr>\n",
       "    <tr>\n",
       "      <th>1</th>\n",
       "      <td>2023-10-31 00:00:00-04:00</td>\n",
       "      <td>196.119995</td>\n",
       "      <td>202.800003</td>\n",
       "      <td>194.070007</td>\n",
       "      <td>200.839996</td>\n",
       "      <td>118068300</td>\n",
       "      <td>0.0</td>\n",
       "      <td>0.0</td>\n",
       "    </tr>\n",
       "    <tr>\n",
       "      <th>2</th>\n",
       "      <td>2023-11-01 00:00:00-04:00</td>\n",
       "      <td>204.039993</td>\n",
       "      <td>205.990005</td>\n",
       "      <td>197.850006</td>\n",
       "      <td>205.660004</td>\n",
       "      <td>121661700</td>\n",
       "      <td>0.0</td>\n",
       "      <td>0.0</td>\n",
       "    </tr>\n",
       "    <tr>\n",
       "      <th>3</th>\n",
       "      <td>2023-11-02 00:00:00-04:00</td>\n",
       "      <td>212.970001</td>\n",
       "      <td>219.199997</td>\n",
       "      <td>211.449997</td>\n",
       "      <td>218.509995</td>\n",
       "      <td>125987600</td>\n",
       "      <td>0.0</td>\n",
       "      <td>0.0</td>\n",
       "    </tr>\n",
       "    <tr>\n",
       "      <th>4</th>\n",
       "      <td>2023-11-03 00:00:00-04:00</td>\n",
       "      <td>221.149994</td>\n",
       "      <td>226.369995</td>\n",
       "      <td>218.399994</td>\n",
       "      <td>219.960007</td>\n",
       "      <td>119281000</td>\n",
       "      <td>0.0</td>\n",
       "      <td>0.0</td>\n",
       "    </tr>\n",
       "  </tbody>\n",
       "</table>\n",
       "</div>"
      ]
     },
     "execution_count": 17,
     "metadata": {},
     "output_type": "execute_result"
    }
   ],
   "execution_count": 17
  },
  {
   "metadata": {},
   "cell_type": "markdown",
   "source": [
    "## Question 2: Use Webscraping to Extract Tesla Revenue Data\n",
    "\n",
    "Display the last five rows of the tesla_revenue dataframe using the tail function. Upload a screenshot of the results.\n",
    "\n"
   ],
   "id": "6c5cda80351711cb"
  },
  {
   "metadata": {},
   "cell_type": "code",
   "outputs": [],
   "execution_count": null,
   "source": [
    "tesla_revenue = pd.read_html(\"https://www.macrotrends.net/stocks/charts/TSLA/tesla/revenue\")\n",
    "tesla_revenue = tesla_revenue[1]\n",
    "tesla_revenue.tail()"
   ],
   "id": "d3b8918a9f2b9c88"
  },
  {
   "metadata": {},
   "cell_type": "markdown",
   "source": [
    "## Question 3: Use yfinance to Extract Stock Data\n",
    "\n",
    "Reset the index, save, and display the first five rows of the gme_data dataframe using the head function. Upload a screenshot of the results and code from the beginning of Question 1 to the results below."
   ],
   "id": "40d3baeb2ef47c12"
  },
  {
   "metadata": {},
   "cell_type": "code",
   "outputs": [],
   "execution_count": null,
   "source": "gme = yf.Ticker(\"GME\")",
   "id": "88b38554c94f1b6d"
  },
  {
   "metadata": {},
   "cell_type": "code",
   "outputs": [],
   "execution_count": null,
   "source": "",
   "id": "194e44ea9b23409a"
  }
 ],
 "metadata": {
  "kernelspec": {
   "display_name": "Python 3",
   "language": "python",
   "name": "python3"
  },
  "language_info": {
   "codemirror_mode": {
    "name": "ipython",
    "version": 2
   },
   "file_extension": ".py",
   "mimetype": "text/x-python",
   "name": "python",
   "nbconvert_exporter": "python",
   "pygments_lexer": "ipython2",
   "version": "2.7.6"
  }
 },
 "nbformat": 4,
 "nbformat_minor": 5
}
